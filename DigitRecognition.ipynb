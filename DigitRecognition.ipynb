{
 "cells": [
  {
   "cell_type": "code",
   "execution_count": 1,
   "metadata": {
    "collapsed": false
   },
   "outputs": [
    {
     "name": "stdout",
     "output_type": "stream",
     "text": [
      "Populating the interactive namespace from numpy and matplotlib\n"
     ]
    }
   ],
   "source": [
    "%pylab inline"
   ]
  },
  {
   "cell_type": "code",
   "execution_count": 2,
   "metadata": {
    "collapsed": false
   },
   "outputs": [
    {
     "name": "stdout",
     "output_type": "stream",
     "text": [
      "(1797, 64)\n"
     ]
    },
    {
     "data": {
      "image/png": "[encoded data removed]",
      "text/plain": [
       "<matplotlib.figure.Figure at 0x7f2e6bb21e90>"
      ]
     },
     "metadata": {},
     "output_type": "display_data"
    },
    {
     "name": "stdout",
     "output_type": "stream",
     "text": [
      "(1797, 15)\n",
      "best bandwidth: 3.79269019073\n",
      "KernelDensity(algorithm='auto', atol=0, bandwidth=3.7926901907322499,\n",
      "       breadth_first=True, kernel='gaussian', leaf_size=40,\n",
      "       metric='euclidean', metric_params=None, rtol=0)\n"
     ]
    },
    {
     "data": {
      "image/png": "[encoded data removed]",
      "text/plain": [
       "<matplotlib.figure.Figure at 0x7f2e75a83190>"
      ]
     },
     "metadata": {},
     "output_type": "display_data"
    }
   ],
   "source": [
    "from sklearn.datasets import load_digits\n",
    "digits = load_digits()\n",
    "print(digits.data.shape)\n",
    "data = digits.images[1]\n",
    "plt.matshow(digits.images[1])\n",
    "plt.show()\n",
    "\n",
    "from sklearn.decomposition import PCA\n",
    "pca = PCA(n_components=15, whiten=False)\n",
    "data = pca.fit_transform(digits.data)\n",
    "print(data.shape)\n",
    "\n",
    "from sklearn.neighbors import KernelDensity\n",
    "from sklearn.grid_search import GridSearchCV\n",
    "# use grid search cross-validation to optimize the bandwidth\n",
    "params = {'bandwidth': np.logspace(-1, 1, 20)}\n",
    "grid = GridSearchCV(KernelDensity(), params)\n",
    "grid.fit(data)\n",
    "print(\"best bandwidth: {0}\".format(grid.best_estimator_.bandwidth))\n",
    "\n",
    "# use the best estimator to compute the kernel density estimate\n",
    "kde = grid.best_estimator_\n",
    "print(kde)\n",
    "# sample 44 new points from the data\n",
    "new_data = kde.sample(44, random_state=0)\n",
    "new_data = pca.inverse_transform(new_data)\n",
    "# turn data into a 4x11 grid\n",
    "new_data = new_data.reshape((4, 11, -1))\n",
    "real_data = digits.data[:44].reshape((4, 11, -1))\n",
    "\n",
    "# plot real digits and resampled digits\n",
    "fig, ax = plt.subplots(9, 11, subplot_kw=dict(xticks=[], yticks=[]))\n",
    "for j in range(11):\n",
    "    ax[4, j].set_visible(False)\n",
    "    for i in range(4):\n",
    "        im = ax[i, j].imshow(real_data[i, j].reshape((8, 8)),\n",
    "                             cmap=plt.cm.binary, interpolation='nearest')\n",
    "        im.set_clim(0, 16)\n",
    "        im = ax[i + 5, j].imshow(new_data[i, j].reshape((8, 8)),\n",
    "                                 cmap=plt.cm.binary, interpolation='nearest')\n",
    "        im.set_clim(0, 16)\n",
    "\n",
    "ax[0, 5].set_title('Selection from the input data')\n",
    "ax[5, 5].set_title('\"New\" digits drawn from the kernel density model')\n",
    "plt.show()\n"
   ]
  },
  {
   "cell_type": "code",
   "execution_count": null,
   "metadata": {
    "collapsed": false
   },
   "outputs": [],
   "source": [
    "from sklearn import svm, metrics\n",
    "\n",
    "data = np.genfromtxt('train.csv', delimiter=',', skip_header=1)\n",
    "images = data[:, 1:]\n",
    "target = data[:, 0]\n",
    "\n",
    "#images_and_labels = list(zip(images, target))\n",
    "#for index, (image, label) in enumerate(images_and_labels[:4]):\n",
    "#    plt.subplot(2, 4, index + 1)\n",
    "#    plt.axis('off')\n",
    "#    plt.imshow(image.reshape(28,28), cmap=plt.cm.gray_r, interpolation='nearest')\n",
    "#    plt.title('Training: %i' % label)\n",
    "\n",
    "# To apply a classifier on this data, we need to flatten the image, to\n",
    "# turn the data in a (samples, feature) matrix:\n",
    "#n_samples = len(images)\n",
    "\n",
    "# Create a classifier: a support vector classifier\n",
    "classifier = svm.SVC(kernel='rbf', C=100, gamma=0.01)\n",
    "\n",
    "# We learn the digits on the first half of the digits\n",
    "train_count = len(images)/2\n",
    "classifier.fit(images[:train_count], target[:train_count])\n",
    "\n",
    "# Now predict the value of the digit on the second half:\n",
    "expected = target[train_count:]\n",
    "predicted = classifier.predict(images[train_count:])\n",
    "\n",
    "print(\"Classification report for classifier %s:\\n%s\\n\"\n",
    "      % (classifier, metrics.classification_report(expected, predicted)))\n",
    "print(\"Confusion matrix:\\n%s\" % metrics.confusion_matrix(expected, predicted))\n",
    "\n",
    "#images_and_predictions = list(zip(images[train_count:train_count+4], predicted))\n",
    "#for index, (image, prediction) in enumerate(images_and_predictions[:4]):\n",
    "#    plt.subplot(2, 4, index + 5)\n",
    "#    plt.axis('off')\n",
    "#    plt.imshow(image.reshape(28,28), cmap=plt.cm.gray_r, interpolation='nearest')\n",
    "#    plt.title('Prediction: %i' % prediction)\n",
    "\n",
    "#plt.show()"
   ]
  },
  {
   "cell_type": "code",
   "execution_count": null,
   "metadata": {
    "collapsed": false
   },
   "outputs": [],
   "source": [
    "import optunity\n",
    "import optunity.metrics\n",
    "import sklearn.svm\n",
    "\n",
    "data = np.genfromtxt('tmp.csv', delimiter=',', skip_header=1)\n",
    "images = data[:, 1:]\n",
    "target = data[:, 0]\n",
    "\n",
    "# score function: twice iterated 10-fold cross-validated accuracy\n",
    "@optunity.cross_validated(x=images, y=target, num_folds=10, num_iter=2)\n",
    "def svm_auc(x_train, y_train, x_test, y_test, C, gamma):\n",
    "    model = sklearn.svm.SVC(kernel='linear', C=C, gamma=gamma).fit(x_train, y_train)\n",
    "    decision_values = model.predict(x_test)\n",
    "    print(C, gamma, optunity.metrics.error_rate(y_test, decision_values))\n",
    "    return optunity.metrics.error_rate(y_test, decision_values)\n",
    "\n",
    "# perform tuning\n",
    "optimal_pars, _, _ = optunity.minimize(svm_auc, num_evals=50, C=[0, 3], gamma=[0, 0.0000001])\n",
    "print(optimal_pars)"
   ]
  },
  {
   "cell_type": "code",
   "execution_count": null,
   "metadata": {
    "collapsed": false
   },
   "outputs": [],
   "source": [
    "import pandas as pd \n",
    "\n",
    "df = pd.read_csv('train.csv')\n",
    "df = df.astype(float64)\n",
    "df.shape"
   ]
  },
  {
   "cell_type": "code",
   "execution_count": null,
   "metadata": {
    "collapsed": false
   },
   "outputs": [],
   "source": [
    "from sklearn.grid_search import GridSearchCV\n",
    "\n",
    "# scikit-learn dimension reduction\n",
    "from sklearn.decomposition import PCA\n",
    "# scikit-learn dataset processing utils\n",
    "from sklearn.preprocessing import MinMaxScaler\n",
    "\n",
    "min_max_scaler = MinMaxScaler()\n",
    "pca = PCA(n_components=80)\n",
    "\n",
    "X = min_max_scaler.fit_transform(df.ix[:9999,1:])\n",
    "print(X)\n",
    "X = pca.fit_transform(X)\n",
    "print(X)\n",
    "y = df.ix[:9999,0]\n",
    "\n",
    "\n",
    "from sklearn.svm import SVC\n",
    "\n",
    "tuned_parameters = [{'kernel' : ['rbf'], 'gamma': [0.1, 1e-2, 1e-3, 1e-4, 1e-8], 'C': [1, 10, 100, 1000]}, \n",
    "                    {'kernel' : ['poly'], 'degree' : [5, 9], 'C' : [1, 10]}]\n",
    "\n",
    "svm = GridSearchCV( SVC(), tuned_parameters, cv=3, verbose=2 ).fit(X, y)\n",
    "print(svm.best_estimator_)\n",
    "\n",
    "\n",
    "Xt = min_max_scaler.fit_transform(df.ix[35000:,1:])\n",
    "yt = df.ix[35000:,0]\n",
    "\n",
    "yp = svm.predict(pca.transform(Xt))\n",
    "print('prediction accuracy: %.4f' % (1./len(yt) * sum( yp == yt )) )"
   ]
  }
 ],
 "metadata": {
  "kernelspec": {
   "display_name": "Python 2",
   "language": "python",
   "name": "python2"
  },
  "language_info": {
   "codemirror_mode": {
    "name": "ipython",
    "version": 2
   },
   "file_extension": ".py",
   "mimetype": "text/x-python",
   "name": "python",
   "nbconvert_exporter": "python",
   "pygments_lexer": "ipython2",
   "version": "2.7.10"
  }
 },
 "nbformat": 4,
 "nbformat_minor": 0
}

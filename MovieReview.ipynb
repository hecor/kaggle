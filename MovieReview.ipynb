{
 "cells": [
  {
   "cell_type": "code",
   "execution_count": 14,
   "metadata": {
    "collapsed": false
   },
   "outputs": [],
   "source": [
    "import re\n",
    "from bs4 import BeautifulSoup\n",
    "from nltk.corpus import stopwords\n",
    "from nltk.stem.snowball import SnowballStemmer\n",
    "\n",
    "def review_to_words( review, remove_stopwords=False ):\n",
    "    review_text = BeautifulSoup(review).get_text()\n",
    "    review_text = re.sub(\"[^a-zA-Z]\",\" \", review_text)\n",
    "    words = review_text.lower().split()\n",
    "    \n",
    "    if remove_stopwords:\n",
    "        stops = set(stopwords.words(\"english\"))\n",
    "        words = [w for w in words if not w in stops]\n",
    "\n",
    "    stemmer = SnowballStemmer(\"english\")\n",
    "    words = [stemmer.stem(w) for w in words]\n",
    "    \n",
    "    return(words)"
   ]
  },
  {
   "cell_type": "markdown",
   "metadata": {},
   "source": [
    "it is Abhishek's Evergreen model. It uses tfidf on the full dataset to vectorize the input words, then a Logisitic regression model to predict the output scores. CV/LB score ~ 0.95. If your computer doesn't have the RAM, limit the number of features in the TfidfVectorizer."
   ]
  },
  {
   "cell_type": "code",
   "execution_count": 31,
   "metadata": {
    "collapsed": false
   },
   "outputs": [
    {
     "name": "stdout",
     "output_type": "stream",
     "text": [
      "vectorizing... \n",
      "4933\n",
      "20 Fold CV Score:  0.952827392\n",
      "Retrain on all training data, predicting test labels...\n",
      "\n",
      "Wrote results to LogisticRegression.csv\n"
     ]
    }
   ],
   "source": [
    "from sklearn.feature_extraction.text import TfidfVectorizer\n",
    "from sklearn.linear_model import LogisticRegression\n",
    "from sklearn import cross_validation\n",
    "import pandas as pd\n",
    "import numpy as np\n",
    "\n",
    "train = pd.read_csv('labeledTrainData.tsv', header=0, delimiter=\"\\t\", quoting=3)\n",
    "test = pd.read_csv('testData.tsv', header=0, delimiter=\"\\t\", quoting=3 )\n",
    "#unlabel = pd.read_csv('unlabeledTrainData.tsv', header=0, delimiter='\\t', quoting=3)\n",
    "\n",
    "y = train[\"sentiment\"]\n",
    "\n",
    "print('vectorizing... ',)\n",
    "\n",
    "tfv = TfidfVectorizer(min_df=100, analyzer=review_to_words)\n",
    "tfv.fit(train['review']+test['review'])\n",
    "\n",
    "X = tfv.transform(train['review'])\n",
    "X_test = tfv.transform(test['review'])\n",
    "\n",
    "print(len(tfv.get_feature_names()))\n",
    "\n",
    "model = LogisticRegression(penalty='l2', dual=False, tol=0.0001,\n",
    "                         C=1, fit_intercept=True, intercept_scaling=1.0, \n",
    "                         class_weight=None, random_state=None)\n",
    "print (\"20 Fold CV Score: \", np.mean(cross_validation.cross_val_score(model, X, y, cv=20, scoring='roc_auc')))\n",
    "\n",
    "print (\"Retrain on all training data, predicting test labels...\\n\")\n",
    "model.fit(X,y)\n",
    "result = model.predict(X_test)\n",
    "output = pd.DataFrame( data={\"id\":test[\"id\"], \"sentiment\":result} )\n",
    "\n",
    "# Use pandas to write the comma-separated output file\n",
    "output.to_csv('LogisticRegression.csv', index=False, quoting=3)\n",
    "print (\"Wrote results to LogisticRegression.csv\")"
   ]
  }
 ],
 "metadata": {
  "kernelspec": {
   "display_name": "Python 2",
   "language": "python",
   "name": "python2"
  },
  "language_info": {
   "codemirror_mode": {
    "name": "ipython",
    "version": 2
   },
   "file_extension": ".py",
   "mimetype": "text/x-python",
   "name": "python",
   "nbconvert_exporter": "python",
   "pygments_lexer": "ipython2",
   "version": "2.7.9"
  }
 },
 "nbformat": 4,
 "nbformat_minor": 0
}

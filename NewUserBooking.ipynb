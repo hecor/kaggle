{
 "cells": [
  {
   "cell_type": "markdown",
   "metadata": {},
   "source": [
    "#### New User Booking\n",
    "\n",
    "##### Objective\n",
    "    In this recruiting competition, Airbnb challenges you to predict in which country a new user will make his or her first booking.\n",
    "    \n",
    "##### Description\n",
    "    In this challenge, you are given a list of users along with their demographics, web session records, and some summary statistics. You are asked to predict which country a new user's first booking destination will be. All the users in this dataset are from the USA.\n",
    "\n",
    "##### 01.05\n",
    "1. change submission format: submit 5 candidates for each id;\n",
    "2. random forest tree\n",
    "    - with no date info:\n",
    "        * cross validation score: 0.7965\n",
    "        * submission score: 0.84737\n",
    "    - add date info: \n",
    "        * cross validation score: 0.5848\n",
    "        * submission score: 0.83995\n",
    "    - add month info:\n",
    "        * cross validation score: 0.7515\n",
    "        * submission score: 0.82841\n",
    "3. XGBClassifier:\n",
    "    - without date info:\n",
    "        * cross validation score: 0.8230\n",
    "        * submission score: 0.86590\n",
    "    - with month info:\n",
    "        * cross validation score: 0.8128\n",
    "        * submission score: 0.8644\n",
    "    - clean age data:\n",
    "        * cross validation score: 0.82327\n",
    "        * submission score: 0.86475 \n",
    "    - make age int instead of string:\n",
    "        * cv score: 0.823116988110146\n",
    "        * sub score: 0.86533\n",
    "    "
   ]
  },
  {
   "cell_type": "code",
   "execution_count": 3,
   "metadata": {
    "collapsed": false
   },
   "outputs": [
    {
     "name": "stdout",
     "output_type": "stream",
     "text": [
      "Populating the interactive namespace from numpy and matplotlib\n"
     ]
    }
   ],
   "source": [
    "%pylab inline"
   ]
  },
  {
   "cell_type": "code",
   "execution_count": 1,
   "metadata": {
    "collapsed": false
   },
   "outputs": [],
   "source": [
    "import pandas as pd\n",
    "\n",
    "def handle_age(age):\n",
    "    age = float(age)\n",
    "    if age>0 and age<100:\n",
    "        return int(age)/5\n",
    "    elif age>=100 and age<150:\n",
    "        return '100+'\n",
    "    elif age >= 150:\n",
    "        return 'unvalid'\n",
    "    else:\n",
    "        return 'NA'\n",
    "\n",
    "def clean_data(data):\n",
    "    data['age'] = data['age'].apply(handle_age)\n",
    "#     dac = np.vstack(data.date_account_created.astype(str) \\\n",
    "#             .apply(lambda x: list(x.split('-'))).values)\n",
    "#     data['dac_year'] = dac[:,0]\n",
    "#     data['dac_month'] = dac[:,1]\n",
    "#     data['dac_day'] = dac[:,2]\n",
    "#     tfa = np.vstack(data.timestamp_first_active.astype(str) \\\n",
    "#             .apply(lambda x: list([x[:4],x[4:6],x[6:8]])).values)\n",
    "#     data['tfa_year'] = tfa[:,0]\n",
    "#     data['tfa_month'] = tfa[:,1]\n",
    "#     data['tfa_day'] = tfa[:,2]\n",
    "    data.set_index('id', inplace=True)\n",
    "    return data.drop(['date_first_booking', 'timestamp_first_active', 'date_account_created'], axis=1) \\\n",
    "               .replace('-unknown-', 'NA').fillna('NA')\n",
    "\n",
    "train_data = pd.read_csv('./train_users_2.csv')\n",
    "train_data = clean_data(train_data)\n",
    "\n",
    "test_data = pd.read_csv('./test_users.csv')\n",
    "test_ids = test_data['id']\n",
    "test_data = clean_data(test_data)"
   ]
  },
  {
   "cell_type": "code",
   "execution_count": 4,
   "metadata": {
    "collapsed": false
   },
   "outputs": [
    {
     "data": {
      "text/plain": [
       "<matplotlib.axes._subplots.AxesSubplot at 0x7f74304ed550>"
      ]
     },
     "execution_count": 4,
     "metadata": {},
     "output_type": "execute_result"
    },
    {
     "data": {
      "image/png": "[encoded data removed]",
      "text/plain": [
       "<matplotlib.figure.Figure at 0x7f74304b0d10>"
      ]
     },
     "metadata": {},
     "output_type": "display_data"
    }
   ],
   "source": [
    "# view training data\n",
    "#what % of users go to which country\n",
    "#print train_data['country_destination'].tolist()\n",
    "x = train_data.country_destination.value_counts() / len(train_data.country_destination)\n",
    "x.plot(kind='bar')"
   ]
  },
  {
   "cell_type": "code",
   "execution_count": 5,
   "metadata": {
    "collapsed": true
   },
   "outputs": [],
   "source": [
    "session_data = pd.read_csv('./sessions.csv')"
   ]
  },
  {
   "cell_type": "code",
   "execution_count": 18,
   "metadata": {
    "collapsed": false,
    "scrolled": false
   },
   "outputs": [],
   "source": [
    "result = session_data.groupby(['user_id'])['device_type'].agg(lambda x:x.value_counts().index[0])"
   ]
  },
  {
   "cell_type": "code",
   "execution_count": null,
   "metadata": {
    "collapsed": false
   },
   "outputs": [],
   "source": [
    "train_data = train_data.merge(pd.DataFrame(result), how='left', left_index=True, right_index=True)\n",
    "print train_data"
   ]
  },
  {
   "cell_type": "code",
   "execution_count": 6,
   "metadata": {
    "collapsed": false
   },
   "outputs": [
    {
     "name": "stdout",
     "output_type": "stream",
     "text": [
      "            gender age signup_method  signup_flow language affiliate_channel  \\\n",
      "id                                                                             \n",
      "gxn3p5htnn      NA  NA      facebook            0       en            direct   \n",
      "820tgsjxq7    MALE   7      facebook            0       en               seo   \n",
      "4ft3gnwmtx  FEMALE  11         basic            3       en            direct   \n",
      "bjjt8pjhuk  FEMALE   8      facebook            0       en            direct   \n",
      "87mebub9p4      NA   8         basic            0       en            direct   \n",
      "osr2jwljor      NA  NA         basic            0       en             other   \n",
      "lsw9q7uk0j  FEMALE   9         basic            0       en             other   \n",
      "0d01nltbrs  FEMALE   9         basic            0       en            direct   \n",
      "a1vcnhxeij  FEMALE  10         basic            0       en             other   \n",
      "6uh8zyj2gn      NA   9         basic            0       en             other   \n",
      "yuuqmid2rp  FEMALE   7         basic            0       en             other   \n",
      "om1ss59ys8  FEMALE   9         basic            0       en             other   \n",
      "k6np330cm1      NA  NA         basic            0       en            direct   \n",
      "dy3rgx56cu  FEMALE   7         basic            0       en             other   \n",
      "ju3h98ch3w  FEMALE   7         basic            0       en             other   \n",
      "v4d5rl22px  FEMALE   6         basic            0       en            direct   \n",
      "2dwbwkx056      NA  NA         basic            0       en             other   \n",
      "frhre329au      NA   6         basic            0       en             other   \n",
      "cxlg85pg1r      NA  NA         basic            0       en               seo   \n",
      "gdka1q5ktd  FEMALE   5         basic            0       en            direct   \n",
      "qdubonn3uk      NA  NA         basic            0       en            direct   \n",
      "qsibmuz9sx    MALE   6         basic            0       en            direct   \n",
      "80f7dwscrn      NA   8         basic            0       en               seo   \n",
      "jha93x042q      NA  NA         basic            0       en             other   \n",
      "7i49vnuav6  FEMALE   8         basic            0       en               seo   \n",
      "al8bcetz0g  FEMALE   5         basic            0       en             other   \n",
      "bjg0m5otl3      NA  NA         basic            0       en             other   \n",
      "hfrl5gle36  FEMALE   6         basic            0       en             other   \n",
      "tp6x3md0n4      NA   7         basic            0       en            direct   \n",
      "hql77nu2lk      NA   7         basic            0       en            direct   \n",
      "...            ...  ..           ...          ...      ...               ...   \n",
      "c98s3h7kgj      NA  NA         basic            0       en            direct   \n",
      "ytmpiwb8hj      NA  NA         basic            0       en            direct   \n",
      "3dx1jk6yk2  FEMALE   4      facebook           25       en            direct   \n",
      "hcfj07iowv  FEMALE   6      facebook            0       en            direct   \n",
      "l1f71f9vsj  FEMALE   6      facebook            0       en            direct   \n",
      "15bj4ahmhf      NA  NA         basic            0       en            direct   \n",
      "qwpybxfjdl      NA  NA         basic            0       en            direct   \n",
      "k4t61wuvyq      NA  NA         basic           23       en            direct   \n",
      "mhh7b52z44      NA  NA         basic           25       en            direct   \n",
      "79wk7k2k5t      NA   3         basic            0       en            direct   \n",
      "ftwmocvwlq      NA  NA         basic            0       en            direct   \n",
      "rg7ayg1tob    MALE   6      facebook            0       en            direct   \n",
      "2f24umzkuv      NA  NA         basic            0       en         sem-brand   \n",
      "or77n2ojuj      NA  NA         basic            0       en               seo   \n",
      "0a5bnb9bs4      NA  NA         basic            0       en               seo   \n",
      "6fzrn49sfn      NA  NA         basic           25       en            direct   \n",
      "r0jq0devgy      NA  NA         basic           23       en            direct   \n",
      "v5lq9bj8gv      NA  NA         basic           25       en            direct   \n",
      "msucfwmlzc    MALE   8         basic            0       en            direct   \n",
      "04y8115avm  FEMALE   4         basic           25       en            direct   \n",
      "omlc9iku7t  FEMALE   6         basic            0       en            direct   \n",
      "rf0ay567js      NA  NA         basic            0       en         sem-brand   \n",
      "0k26r3mir0  FEMALE   7         basic            0       en         sem-brand   \n",
      "40o1ivh6cb      NA  NA         basic            0       en            direct   \n",
      "qbxza0xojf  FEMALE   4         basic            0       en         sem-brand   \n",
      "zxodksqpep    MALE   6         basic            0       en         sem-brand   \n",
      "mhewnxesx9      NA  NA         basic            0       en            direct   \n",
      "6o3arsjbb4      NA   6         basic            0       en            direct   \n",
      "jh95kwisub      NA  NA         basic           25       en             other   \n",
      "nw9fwlyb5f      NA  NA         basic           25       en            direct   \n",
      "\n",
      "           affiliate_provider first_affiliate_tracked signup_app  \\\n",
      "id                                                                 \n",
      "gxn3p5htnn             direct               untracked        Web   \n",
      "820tgsjxq7             google               untracked        Web   \n",
      "4ft3gnwmtx             direct               untracked        Web   \n",
      "bjjt8pjhuk             direct               untracked        Web   \n",
      "87mebub9p4             direct               untracked        Web   \n",
      "osr2jwljor              other                     omg        Web   \n",
      "lsw9q7uk0j         craigslist               untracked        Web   \n",
      "0d01nltbrs             direct                     omg        Web   \n",
      "a1vcnhxeij         craigslist               untracked        Web   \n",
      "6uh8zyj2gn         craigslist                     omg        Web   \n",
      "yuuqmid2rp         craigslist               untracked        Web   \n",
      "om1ss59ys8         craigslist               untracked        Web   \n",
      "k6np330cm1             direct                      NA        Web   \n",
      "dy3rgx56cu         craigslist                  linked        Web   \n",
      "ju3h98ch3w         craigslist               untracked        Web   \n",
      "v4d5rl22px             direct               untracked        Web   \n",
      "2dwbwkx056         craigslist                      NA        Web   \n",
      "frhre329au         craigslist                      NA        Web   \n",
      "cxlg85pg1r           facebook                      NA        Web   \n",
      "gdka1q5ktd             direct               untracked        Web   \n",
      "qdubonn3uk             direct                      NA        Web   \n",
      "qsibmuz9sx             direct                  linked        Web   \n",
      "80f7dwscrn             google               untracked        Web   \n",
      "jha93x042q         craigslist               untracked        Web   \n",
      "7i49vnuav6             google               untracked        Web   \n",
      "al8bcetz0g         craigslist               untracked        Web   \n",
      "bjg0m5otl3              other               untracked        Web   \n",
      "hfrl5gle36         craigslist               untracked        Web   \n",
      "tp6x3md0n4             direct                      NA        Web   \n",
      "hql77nu2lk             direct               untracked        Web   \n",
      "...                       ...                     ...        ...   \n",
      "c98s3h7kgj             direct                  linked        Web   \n",
      "ytmpiwb8hj             direct               untracked        Web   \n",
      "3dx1jk6yk2             direct               untracked        iOS   \n",
      "hcfj07iowv             direct                  linked        Web   \n",
      "l1f71f9vsj             direct                  linked        Web   \n",
      "15bj4ahmhf             direct               untracked      Moweb   \n",
      "qwpybxfjdl             direct                  linked        Web   \n",
      "k4t61wuvyq             direct               untracked    Android   \n",
      "mhh7b52z44             direct               untracked        iOS   \n",
      "79wk7k2k5t             direct                  linked        Web   \n",
      "ftwmocvwlq             direct               untracked        Web   \n",
      "rg7ayg1tob             direct           tracked-other        Web   \n",
      "2f24umzkuv             google               untracked        Web   \n",
      "or77n2ojuj           facebook                 product        Web   \n",
      "0a5bnb9bs4             google               untracked        Web   \n",
      "6fzrn49sfn             direct               untracked        iOS   \n",
      "r0jq0devgy             direct               untracked    Android   \n",
      "v5lq9bj8gv             direct               untracked        iOS   \n",
      "msucfwmlzc             direct               untracked        Web   \n",
      "04y8115avm             direct               untracked        iOS   \n",
      "omlc9iku7t             direct                  linked        Web   \n",
      "rf0ay567js             google                     omg        Web   \n",
      "0k26r3mir0             google                  linked        Web   \n",
      "40o1ivh6cb             direct                  linked        Web   \n",
      "qbxza0xojf             google                     omg        Web   \n",
      "zxodksqpep             google                     omg        Web   \n",
      "mhewnxesx9             direct                  linked        Web   \n",
      "6o3arsjbb4             direct               untracked        Web   \n",
      "jh95kwisub              other           tracked-other        iOS   \n",
      "nw9fwlyb5f             direct               untracked        iOS   \n",
      "\n",
      "           first_device_type  first_browser country_destination  secs_elapsed  \n",
      "id                                                                             \n",
      "gxn3p5htnn       Mac Desktop         Chrome                 NDF           NaN  \n",
      "820tgsjxq7       Mac Desktop         Chrome                 NDF           NaN  \n",
      "4ft3gnwmtx   Windows Desktop             IE                  US           NaN  \n",
      "bjjt8pjhuk       Mac Desktop        Firefox               other           NaN  \n",
      "87mebub9p4       Mac Desktop         Chrome                  US           NaN  \n",
      "osr2jwljor       Mac Desktop         Chrome                  US           NaN  \n",
      "lsw9q7uk0j       Mac Desktop         Safari                  US           NaN  \n",
      "0d01nltbrs       Mac Desktop         Safari                  US           NaN  \n",
      "a1vcnhxeij       Mac Desktop         Safari                  US           NaN  \n",
      "6uh8zyj2gn       Mac Desktop        Firefox                  US           NaN  \n",
      "yuuqmid2rp       Mac Desktop        Firefox                  US           NaN  \n",
      "om1ss59ys8            iPhone             NA                 NDF           NaN  \n",
      "k6np330cm1     Other/Unknown             NA                  FR           NaN  \n",
      "dy3rgx56cu       Mac Desktop        Firefox                 NDF           NaN  \n",
      "ju3h98ch3w            iPhone  Mobile Safari                 NDF           NaN  \n",
      "v4d5rl22px   Windows Desktop         Chrome                  CA           NaN  \n",
      "2dwbwkx056     Other/Unknown             NA                 NDF           NaN  \n",
      "frhre329au     Other/Unknown             NA                  US           NaN  \n",
      "cxlg85pg1r     Other/Unknown             NA                 NDF           NaN  \n",
      "gdka1q5ktd       Mac Desktop         Chrome                  FR           NaN  \n",
      "qdubonn3uk     Other/Unknown             NA                  US           NaN  \n",
      "qsibmuz9sx       Mac Desktop         Chrome                  US           NaN  \n",
      "80f7dwscrn            iPhone             NA                  US           NaN  \n",
      "jha93x042q       Mac Desktop         Safari                 NDF           NaN  \n",
      "7i49vnuav6       Mac Desktop        Firefox                 NDF           NaN  \n",
      "al8bcetz0g       Mac Desktop         Chrome                  FR           NaN  \n",
      "bjg0m5otl3     Other/Unknown             NA                 NDF           NaN  \n",
      "hfrl5gle36   Desktop (Other)         Chrome                  US           NaN  \n",
      "tp6x3md0n4     Other/Unknown             NA                  FR           NaN  \n",
      "hql77nu2lk    Android Tablet             NA                  US           NaN  \n",
      "...                      ...            ...                 ...           ...  \n",
      "c98s3h7kgj       Mac Desktop        Firefox                 NDF            30  \n",
      "ytmpiwb8hj   Windows Desktop             IE                 NDF            13  \n",
      "3dx1jk6yk2            iPhone             NA                 NDF             2  \n",
      "hcfj07iowv   Windows Desktop         Chrome                 NDF             2  \n",
      "l1f71f9vsj   Windows Desktop         Chrome                 NDF             1  \n",
      "15bj4ahmhf     Android Phone  Chrome Mobile                 NDF            11  \n",
      "qwpybxfjdl   Desktop (Other)         Chrome                 NDF            38  \n",
      "k4t61wuvyq     Android Phone             NA                 NDF            16  \n",
      "mhh7b52z44            iPhone             NA                 NDF             2  \n",
      "79wk7k2k5t       Mac Desktop         Chrome                 NDF            21  \n",
      "ftwmocvwlq   Windows Desktop        Firefox                 NDF             9  \n",
      "rg7ayg1tob       Mac Desktop         Safari                 NDF             1  \n",
      "2f24umzkuv              iPad  Mobile Safari                 NDF            31  \n",
      "or77n2ojuj       Mac Desktop         Chrome                 NDF            10  \n",
      "0a5bnb9bs4   Windows Desktop         Chrome                 NDF             0  \n",
      "6fzrn49sfn            iPhone             NA                 NDF             3  \n",
      "r0jq0devgy    Android Tablet             NA                 NDF            10  \n",
      "v5lq9bj8gv            iPhone             NA                 NDF            28  \n",
      "msucfwmlzc   Windows Desktop        Firefox                  US             1  \n",
      "04y8115avm            iPhone  Mobile Safari                 NDF             5  \n",
      "omlc9iku7t       Mac Desktop         Chrome                  ES             6  \n",
      "rf0ay567js       Mac Desktop         Chrome                 NDF            29  \n",
      "0k26r3mir0       Mac Desktop         Safari                  US            59  \n",
      "40o1ivh6cb   Windows Desktop         Chrome                 NDF             3  \n",
      "qbxza0xojf   Windows Desktop             IE                  US            16  \n",
      "zxodksqpep       Mac Desktop         Safari                 NDF            59  \n",
      "mhewnxesx9   Windows Desktop         Chrome                 NDF            33  \n",
      "6o3arsjbb4       Mac Desktop        Firefox                 NDF             3  \n",
      "jh95kwisub            iPhone  Mobile Safari                 NDF             3  \n",
      "nw9fwlyb5f            iPhone             NA                 NDF            31  \n",
      "\n",
      "[213451 rows x 13 columns]\n"
     ]
    }
   ],
   "source": [
    "result = pd.DataFrame(session_data.groupby(['user_id'])['secs_elapsed'].agg(lambda x:int(sum(x)/3600/24)))\n",
    "train_data = train_data.merge(pd.DataFrame(result), how='left', left_index=True, right_index=True)\n",
    "print train_data"
   ]
  },
  {
   "cell_type": "code",
   "execution_count": 8,
   "metadata": {
    "collapsed": false
   },
   "outputs": [
    {
     "name": "stdout",
     "output_type": "stream",
     "text": [
      "137\n",
      "137\n",
      "['affiliate_channel=api', 'affiliate_channel=content', 'affiliate_channel=direct', 'affiliate_channel=other', 'affiliate_channel=remarketing', 'affiliate_channel=sem-brand', 'affiliate_channel=sem-non-brand', 'affiliate_channel=seo', 'affiliate_provider=baidu', 'affiliate_provider=bing', 'affiliate_provider=craigslist', 'affiliate_provider=daum', 'affiliate_provider=direct', 'affiliate_provider=email-marketing', 'affiliate_provider=facebook', 'affiliate_provider=facebook-open-graph', 'affiliate_provider=google', 'affiliate_provider=gsp', 'affiliate_provider=meetup', 'affiliate_provider=naver', 'affiliate_provider=other', 'affiliate_provider=padmapper', 'affiliate_provider=vast', 'affiliate_provider=wayn', 'affiliate_provider=yahoo', 'affiliate_provider=yandex', 'age', 'age=100+', 'age=NA', 'age=unvalid', 'first_affiliate_tracked=NA', 'first_affiliate_tracked=linked', 'first_affiliate_tracked=local ops', 'first_affiliate_tracked=marketing', 'first_affiliate_tracked=omg', 'first_affiliate_tracked=product', 'first_affiliate_tracked=tracked-other', 'first_affiliate_tracked=untracked', 'first_browser=AOL Explorer', 'first_browser=Android Browser', 'first_browser=Apple Mail', 'first_browser=Arora', 'first_browser=Avant Browser', 'first_browser=BlackBerry Browser', 'first_browser=Camino', 'first_browser=Chrome', 'first_browser=Chrome Mobile', 'first_browser=Chromium', 'first_browser=CometBird', 'first_browser=Comodo Dragon', 'first_browser=Conkeror', 'first_browser=CoolNovo', 'first_browser=Crazy Browser', 'first_browser=Epic', 'first_browser=Firefox', 'first_browser=Flock', 'first_browser=Google Earth', 'first_browser=Googlebot', 'first_browser=IE', 'first_browser=IE Mobile', 'first_browser=IceDragon', 'first_browser=IceWeasel', 'first_browser=Iron', 'first_browser=Kindle Browser', 'first_browser=Maxthon', 'first_browser=Mobile Firefox', 'first_browser=Mobile Safari', 'first_browser=Mozilla', 'first_browser=NA', 'first_browser=NetNewsWire', 'first_browser=OmniWeb', 'first_browser=Opera', 'first_browser=Opera Mini', 'first_browser=Opera Mobile', 'first_browser=Outlook 2007', 'first_browser=PS Vita browser', 'first_browser=Pale Moon', 'first_browser=Palm Pre web browser', 'first_browser=RockMelt', 'first_browser=Safari', 'first_browser=SeaMonkey', 'first_browser=Silk', 'first_browser=SiteKiosk', 'first_browser=SlimBrowser', 'first_browser=Sogou Explorer', 'first_browser=Stainless', 'first_browser=TenFourFox', 'first_browser=TheWorld Browser', 'first_browser=Yandex.Browser', 'first_browser=wOSBrowser', 'first_device_type=Android Phone', 'first_device_type=Android Tablet', 'first_device_type=Desktop (Other)', 'first_device_type=Mac Desktop', 'first_device_type=Other/Unknown', 'first_device_type=SmartPhone (Other)', 'first_device_type=Windows Desktop', 'first_device_type=iPad', 'first_device_type=iPhone', 'gender=FEMALE', 'gender=MALE', 'gender=NA', 'gender=OTHER', 'language=ca', 'language=cs', 'language=da', 'language=de', 'language=el', 'language=en', 'language=es', 'language=fi', 'language=fr', 'language=hr', 'language=hu', 'language=id', 'language=is', 'language=it', 'language=ja', 'language=ko', 'language=nl', 'language=no', 'language=pl', 'language=pt', 'language=ru', 'language=sv', 'language=th', 'language=tr', 'language=zh', 'secs_elapsed', 'signup_app=Android', 'signup_app=Moweb', 'signup_app=Web', 'signup_app=iOS', 'signup_flow', 'signup_method=basic', 'signup_method=facebook', 'signup_method=google']\n"
     ]
    }
   ],
   "source": [
    "from sklearn import preprocessing\n",
    "from sklearn.feature_extraction import DictVectorizer\n",
    "\n",
    "vectorizer = DictVectorizer(sparse=False)\n",
    "Y = train_data['country_destination']\n",
    "X = train_data.drop('country_destination', axis=1)\n",
    "X = vectorizer.fit_transform(X.T.to_dict().values())\n",
    "test_X = vectorizer.transform(test_data.T.to_dict().values())\n",
    "print len(test_X[0])\n",
    "print len(X[0])\n",
    "print vectorizer.feature_names_"
   ]
  },
  {
   "cell_type": "code",
   "execution_count": 9,
   "metadata": {
    "collapsed": false,
    "scrolled": false
   },
   "outputs": [
    {
     "data": {
      "text/plain": [
       "0.80663839154265093"
      ]
     },
     "execution_count": 9,
     "metadata": {},
     "output_type": "execute_result"
    }
   ],
   "source": [
    "from sklearn.ensemble import RandomForestClassifier\n",
    "from xgboost.sklearn import XGBClassifier\n",
    "from sklearn import cross_validation\n",
    "import math\n",
    "# rfc = RandomForestClassifier()\n",
    "rfc = XGBClassifier()\n",
    "\n",
    "def ndcg_scorer(estimator, X_test, y_test):\n",
    "    dcgs = []\n",
    "    y_test = y_test.tolist()\n",
    "    pr = estimator.predict_proba(X_test)\n",
    "    for i in range(len(y_test)):\n",
    "        classes_ = np.array(estimator.classes_)\n",
    "        pred_targets = classes_[np.argsort(pr[i])[::-1][:5]].tolist()\n",
    "        true_target = y_test[i]\n",
    "        try:\n",
    "            idx = pred_targets.index(true_target)\n",
    "            dcgs.append(1/(math.log(2+idx, 2)))\n",
    "        except ValueError:\n",
    "            dcgs.append(0)\n",
    "            pass        \n",
    "    return mean(dcgs)\n",
    "    \n",
    "cross_validation.cross_val_score(rfc, X, Y, cv=5, scoring=ndcg_scorer).mean()"
   ]
  },
  {
   "cell_type": "code",
   "execution_count": 359,
   "metadata": {
    "collapsed": false
   },
   "outputs": [],
   "source": [
    "rfc.fit(X, Y)\n",
    "pr = rfc.predict_proba(test_X)"
   ]
  },
  {
   "cell_type": "code",
   "execution_count": 360,
   "metadata": {
    "collapsed": false
   },
   "outputs": [],
   "source": [
    "cts = []\n",
    "ids = []\n",
    "classes_ = np.array(rfc.classes_)\n",
    "for i in range(len(test_ids)):\n",
    "    idx = test_ids[i]\n",
    "    ids += [idx] * 5\n",
    "    cts += classes_[np.argsort(pr[i])[::-1][:5]].tolist()\n",
    "    \n",
    "sub = pd.DataFrame(np.column_stack((ids, cts)), columns=['id', 'country'])\n",
    "sub.to_csv('./submission.csv', index=False)"
   ]
  }
 ],
 "metadata": {
  "kernelspec": {
   "display_name": "Python 2",
   "language": "python",
   "name": "python2"
  },
  "language_info": {
   "codemirror_mode": {
    "name": "ipython",
    "version": 2
   },
   "file_extension": ".py",
   "mimetype": "text/x-python",
   "name": "python",
   "nbconvert_exporter": "python",
   "pygments_lexer": "ipython2",
   "version": "2.7.10"
  }
 },
 "nbformat": 4,
 "nbformat_minor": 0
}

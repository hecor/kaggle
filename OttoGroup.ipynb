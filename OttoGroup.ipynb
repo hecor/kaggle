{
 "cells": [
  {
   "cell_type": "code",
   "execution_count": 6,
   "metadata": {
    "collapsed": false,
    "scrolled": true
   },
   "outputs": [
    {
     "name": "stdout",
     "output_type": "stream",
     "text": [
      "Populating the interactive namespace from numpy and matplotlib\n"
     ]
    }
   ],
   "source": [
    "%pylab inline\n",
    "import pandas as pd\n",
    "\n",
    "data = pd.read_csv('./train.csv')"
   ]
  },
  {
   "cell_type": "code",
   "execution_count": 7,
   "metadata": {
    "collapsed": false
   },
   "outputs": [],
   "source": [
    "training = data.ix[:,'feat_1':'feat_93']\n",
    "target = data.ix[:, 'target']"
   ]
  },
  {
   "cell_type": "code",
   "execution_count": 22,
   "metadata": {
    "collapsed": false
   },
   "outputs": [
    {
     "name": "stdout",
     "output_type": "stream",
     "text": [
      "(49502, 93)\n"
     ]
    }
   ],
   "source": [
    "data = data.reindex(np.random.permutation(data.index))\n",
    "inputs = array(data.ix[:,'feat_1':'feat_93'])\n",
    "targets = array(data.ix[:, 'target'])\n",
    "training_count = int(len(inputs)*0.8)\n",
    "print inputs[:training_count].shape"
   ]
  },
  {
   "cell_type": "code",
   "execution_count": 3,
   "metadata": {
    "collapsed": false
   },
   "outputs": [
    {
     "name": "stdout",
     "output_type": "stream",
     "text": [
      "(61878, 30)\n"
     ]
    }
   ],
   "source": [
    "from sklearn.decomposition import PCA\n",
    "pca = PCA(n_components = 30)\n",
    "new_training = pca.fit_transform(training)\n",
    "print(new_training.shape)"
   ]
  },
  {
   "cell_type": "code",
   "execution_count": 5,
   "metadata": {
    "collapsed": false
   },
   "outputs": [
    {
     "data": {
      "text/plain": [
       "array([ 0.70542636,  0.71103214,  0.72035541,  0.7092084 ,  0.71574014,\n",
       "        0.70788878,  0.72567087,  0.72065955,  0.72276107,  0.71890668])"
      ]
     },
     "execution_count": 5,
     "metadata": {},
     "output_type": "execute_result"
    }
   ],
   "source": [
    "from sklearn.cross_validation import cross_val_score\n",
    "from sklearn.tree import DecisionTreeClassifier\n",
    "from sklearn.ensemble import AdaBoostClassifier\n",
    "\n",
    "clf = DecisionTreeClassifier()\n",
    "#ada = AdaBoostClassifier(clf, n_estimators=600)\n",
    "cross_val_score(clf, training, target, cv=10)"
   ]
  },
  {
   "cell_type": "code",
   "execution_count": 7,
   "metadata": {
    "collapsed": false,
    "scrolled": false
   },
   "outputs": [
    {
     "data": {
      "text/plain": [
       "array([ 0.80813953,  0.81036989,  0.81147011,  0.80436187,  0.80833872,\n",
       "        0.80730682,  0.81231814,  0.81506628,  0.81167152,  0.81287401])"
      ]
     },
     "execution_count": 7,
     "metadata": {},
     "output_type": "execute_result"
    }
   ],
   "source": [
    "from sklearn.ensemble import RandomForestClassifier\n",
    "from sklearn.ensemble import AdaBoostClassifier\n",
    "from sklearn.cross_validation import cross_val_score\n",
    "\n",
    "rfc = RandomForestClassifier(n_estimators=100)\n",
    "#ada = AdaBoostClassifier(rfc)\n",
    "cross_val_score(rfc, training, target, cv=10)"
   ]
  },
  {
   "cell_type": "code",
   "execution_count": null,
   "metadata": {
    "collapsed": false
   },
   "outputs": [],
   "source": [
    "from sklearn.cross_validation import cross_val_score\n",
    "from sklearn.svm import SVC\n",
    "\n",
    "svc = SVC()\n",
    "cross_val_score(svc, training, target, cv=10)"
   ]
  },
  {
   "cell_type": "code",
   "execution_count": null,
   "metadata": {
    "collapsed": false
   },
   "outputs": [],
   "source": [
    "from sklearn import grid_search\n",
    "\n",
    "parameters = {'max_depth':(5, 10, 20, 50), 'min_samples_leaf':(1, 5, 10), 'n_estimators':(10, 100, 200, 500)}\n",
    "dd = grid_search.GridSearchCV(rfc, parameters, cv=10)\n",
    "dd.fit(training, target)\n",
    "print(dd.best_estimator_)"
   ]
  },
  {
   "cell_type": "code",
   "execution_count": 12,
   "metadata": {
    "collapsed": false
   },
   "outputs": [
    {
     "data": {
      "text/plain": [
       "True"
      ]
     },
     "execution_count": 12,
     "metadata": {},
     "output_type": "execute_result"
    }
   ],
   "source": [
    "### plot decision tree\n",
    "from sklearn.externals.six import StringIO\n",
    "import pydot\n",
    "from sklearn import tree\n",
    "\n",
    "dot_data = StringIO()\n",
    "tree.export_graphviz(model, out_file=dot_data)\n",
    "graph = pydot.graph_from_dot_data(dot_data.getvalue().replace('\\n', '\\t'))\n",
    "graph.write_png('./tree.png')\n",
    "from IPython.display import Image\n",
    "Image(filename='tree.png')"
   ]
  },
  {
   "cell_type": "code",
   "execution_count": 47,
   "metadata": {
    "collapsed": false
   },
   "outputs": [],
   "source": [
    "test = pd.read_csv('./test.csv')\n",
    "ids = test['id']\n",
    "testdata = test.ix[:, 'feat_1':'feat_93']\n",
    "\n",
    "rfc.fit(training, target)\n",
    "result = rfc.predict_proba(testdata)\n",
    "result = pd.DataFrame(result)\n",
    "result = result.set_index(np.arange(result.shape[0])+1)\n",
    "result.to_csv('./output_randomforest.csv')"
   ]
  }
 ],
 "metadata": {
  "kernelspec": {
   "display_name": "Python 2",
   "language": "python",
   "name": "python2"
  },
  "language_info": {
   "codemirror_mode": {
    "name": "ipython",
    "version": 2
   },
   "file_extension": ".py",
   "mimetype": "text/x-python",
   "name": "python",
   "nbconvert_exporter": "python",
   "pygments_lexer": "ipython2",
   "version": "2.7.9"
  }
 },
 "nbformat": 4,
 "nbformat_minor": 0
}
